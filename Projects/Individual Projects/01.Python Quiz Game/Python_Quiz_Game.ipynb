{
 "cells": [
  {
   "cell_type": "markdown",
   "id": "62722555",
   "metadata": {},
   "source": [
    "## Python MCQ Quiz Game:"
   ]
  },
  {
   "cell_type": "code",
   "execution_count": 18,
   "id": "b5dfcd69",
   "metadata": {},
   "outputs": [
    {
     "name": "stdout",
     "output_type": "stream",
     "text": [
      "Hello, Welcome to Python MCQ Quiz\n",
      "Are you ready to play(Yes/No): Yes\n",
      "1.What is the method inside the class in python language?: \n",
      " A)Object  B)Function  C)Attribute  D)Argument :\n",
      "B\n",
      "Correct\n",
      "2.Which character is used in Python to make a single line comment?: \n",
      " A)/  B)//  C)#  D)! :\n",
      " C\n",
      "Correct\n",
      "3. Who developed Python Programming Language?: \n",
      " A)Zim Den  B)Guido van Rossum  C)Niene Stom  D)Wick van Rossum :\n",
      "A\n",
      "incorrect\n",
      "4.In which year was the Python language developed?: \n",
      " A)1995  B)1972  C)1981  D)1989  :\n",
      " D\n",
      "Correct\n",
      "You got 3 questions correct!\n",
      "You got 2.25 score \n"
     ]
    }
   ],
   "source": [
    "print('Hello, Welcome to Python MCQ Quiz')\n",
    "ans=input('Are you ready to play(Yes/No): ')\n",
    "score=0\n",
    "totalque=4\n",
    "i=0\n",
    "\n",
    "if ans=='Yes':\n",
    "    ans=input('1.What is the method inside the class in python language?: \\n A)Object  B)Function  C)Attribute  D)Argument :\\n')\n",
    "    if ans=='B':\n",
    "        score+=1\n",
    "        i+=1\n",
    "        print('Correct')\n",
    "    elif  ans=='B' or  ans=='C' or ans=='D' :\n",
    "        print('incorrect')\n",
    "        score-=0.75\n",
    "     \n",
    "    \n",
    "    ans=input('2.Which character is used in Python to make a single line comment?: \\n A)/  B)//  C)#  D)! :\\n ')\n",
    "    if ans=='C':\n",
    "        score+=1\n",
    "        i+=1\n",
    "        print('Correct')\n",
    "    else:\n",
    "        print('incorrect')\n",
    "        score-=0.75\n",
    "        \n",
    "\n",
    "    ans=input('3. Who developed Python Programming Language?: \\n A)Zim Den  B)Guido van Rossum  C)Niene Stom  D)Wick van Rossum :\\n')\n",
    "    if ans=='B':\n",
    "        score+=1\n",
    "        i+=1\n",
    "        print('Correct')\n",
    "    else:\n",
    "        print('incorrect')\n",
    "        score-=0.75\n",
    "      \n",
    "\n",
    "    ans=input('4.In which year was the Python language developed?: \\n A)1995  B)1972  C)1981  D)1989  :\\n ')\n",
    "    if ans=='D':\n",
    "        score+=1\n",
    "        i+=1\n",
    "        print('Correct')\n",
    "    else:\n",
    "        print('incorrect')\n",
    "        score-=0.75\n",
    "       \n",
    "        \n",
    "    print(f\"You got {i} questions correct!\\nYou got {score} score \")\n",
    "    \n",
    "if ans=='No':\n",
    "    print(\"Quit Game\")\n"
   ]
  }
 ],
 "metadata": {
  "kernelspec": {
   "display_name": "Python 3",
   "language": "python",
   "name": "python3"
  },
  "language_info": {
   "codemirror_mode": {
    "name": "ipython",
    "version": 3
   },
   "file_extension": ".py",
   "mimetype": "text/x-python",
   "name": "python",
   "nbconvert_exporter": "python",
   "pygments_lexer": "ipython3",
   "version": "3.8.8"
  }
 },
 "nbformat": 4,
 "nbformat_minor": 5
}
