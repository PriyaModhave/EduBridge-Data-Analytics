{
 "cells": [
  {
   "cell_type": "code",
   "execution_count": 11,
   "id": "0f971301",
   "metadata": {},
   "outputs": [
    {
     "name": "stdout",
     "output_type": "stream",
     "text": [
      "Enter the number: 4\n",
      "1  2  3  4  "
     ]
    }
   ],
   "source": [
    "# Print n numbers\n",
    "n=int(input(\"Enter the number: \"))\n",
    "for i in range(1,n+1):\n",
    "     print (i, end = '  ')"
   ]
  },
  {
   "cell_type": "code",
   "execution_count": 16,
   "id": "8df55431",
   "metadata": {},
   "outputs": [
    {
     "name": "stdout",
     "output_type": "stream",
     "text": [
      "Enter the number: 5\n",
      "15\n"
     ]
    }
   ],
   "source": [
    "# Sum of n numbers\n",
    "n=int(input(\"Enter the number: \"))\n",
    "sum=0\n",
    "for i in range (0,n+1):\n",
    "    sum=sum+i\n",
    "print(sum)"
   ]
  },
  {
   "cell_type": "code",
   "execution_count": 26,
   "id": "ccb0fdca",
   "metadata": {},
   "outputs": [
    {
     "name": "stdout",
     "output_type": "stream",
     "text": [
      "Enter the number: 5\n",
      "5 * 1 = 5\n",
      "5 * 2 = 10\n",
      "5 * 3 = 15\n",
      "5 * 4 = 20\n",
      "5 * 5 = 25\n",
      "5 * 6 = 30\n",
      "5 * 7 = 35\n",
      "5 * 8 = 40\n",
      "5 * 9 = 45\n",
      "5 * 10 = 50\n"
     ]
    }
   ],
   "source": [
    "# Table of a number\n",
    "n=int(input(\"Enter the number: \"))\n",
    "for i in range(1,11):\n",
    "    print(n,\"* \"+str(i)+\" =\",i*n)"
   ]
  },
  {
   "cell_type": "code",
   "execution_count": 37,
   "id": "17db947e",
   "metadata": {},
   "outputs": [
    {
     "name": "stdout",
     "output_type": "stream",
     "text": [
      "Enter the number: 6\n",
      "720\n"
     ]
    }
   ],
   "source": [
    "# Factorial of number\n",
    "n=int(input(\"Enter the number: \"))\n",
    "num=1\n",
    "if n==0:\n",
    "    print(\"Please enter number greater than zero\")\n",
    "if n>=1:\n",
    "    for i in range(1,n+1):\n",
    "        num=num*i\n",
    "print(num)\n",
    "    "
   ]
  },
  {
   "cell_type": "code",
   "execution_count": 43,
   "id": "75406463",
   "metadata": {},
   "outputs": [
    {
     "name": "stdout",
     "output_type": "stream",
     "text": [
      "2 4 6 8 10 12 14 16 18 20 22 24 26 28 30 32 34 36 38 40 42 44 46 48 50 52 54 56 58 60 62 64 66 68 70 72 74 76 78 80 82 84 86 88 90 92 94 96 98 100 "
     ]
    }
   ],
   "source": [
    "# print even number from 1 to 100\n",
    "for num in range(1,101):\n",
    "    if num%2==0:\n",
    "        print(num,end=\" \")\n",
    "        \n"
   ]
  }
 ],
 "metadata": {
  "kernelspec": {
   "display_name": "Python 3",
   "language": "python",
   "name": "python3"
  },
  "language_info": {
   "codemirror_mode": {
    "name": "ipython",
    "version": 3
   },
   "file_extension": ".py",
   "mimetype": "text/x-python",
   "name": "python",
   "nbconvert_exporter": "python",
   "pygments_lexer": "ipython3",
   "version": "3.8.8"
  }
 },
 "nbformat": 4,
 "nbformat_minor": 5
}
