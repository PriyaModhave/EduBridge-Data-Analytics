{
 "cells": [
  {
   "cell_type": "code",
   "execution_count": 3,
   "id": "e36a08bc",
   "metadata": {},
   "outputs": [
    {
     "name": "stdout",
     "output_type": "stream",
     "text": [
      "Enter value of a :4\n",
      "Enter value of b :3\n",
      "Enter value of c :2\n",
      "0.2244789404140899\n",
      "-0.9744789404140899\n"
     ]
    }
   ],
   "source": [
    "# program to find the roots of quadratic equation\n",
    "import math\n",
    "a = int(input('Enter value of a :'))\n",
    "b = int(input('Enter value of b :'))\n",
    "c = int(input('Enter value of c :'))\n",
    "val = b**2 - 4 * a * c \n",
    "root = math.sqrt(abs(val))\n",
    "print((-b + root)/(2 * a)) \n",
    "print((-b - root)/(2 * a))"
   ]
  },
  {
   "cell_type": "code",
   "execution_count": 4,
   "id": "63236b18",
   "metadata": {},
   "outputs": [
    {
     "name": "stdout",
     "output_type": "stream",
     "text": [
      "Enter the number: 3\n",
      "not prime\n"
     ]
    }
   ],
   "source": [
    "#Program to check wheter a given number is prime or not\n",
    "a=int(input(\"Enter the number: \"))\n",
    "if a%2==0:\n",
    "    print(\"prime no\")\n",
    "else:\n",
    "    print(\"not prime\")"
   ]
  },
  {
   "cell_type": "code",
   "execution_count": 6,
   "id": "cdb8c1a4",
   "metadata": {},
   "outputs": [
    {
     "name": "stdout",
     "output_type": "stream",
     "text": [
      "0\n",
      "1\n",
      "1\n",
      "2\n",
      "3\n",
      "5\n",
      "8\n"
     ]
    }
   ],
   "source": [
    "#Program to print fibonacci series\n",
    "a=0\n",
    "b=+1\n",
    "print(a)\n",
    "print(b)\n",
    "for i in range(5):\n",
    "    temp=a+b\n",
    "    print(temp)\n",
    "    a=b\n",
    "    b=temp"
   ]
  },
  {
   "cell_type": "code",
   "execution_count": 21,
   "id": "bea0a684",
   "metadata": {},
   "outputs": [
    {
     "name": "stdout",
     "output_type": "stream",
     "text": [
      "Enter number: 153\n",
      "amstrong\n"
     ]
    }
   ],
   "source": [
    "#Program to check amstrong number or not\n",
    "n=input(\"Enter number: \")\n",
    "if (int(n[0])**3+int(n[1])**3+int(n[2])**3)==int(n):\n",
    "   print(\"amstrong\")\n",
    "else:\n",
    "   print(\"Not amstrong\")\n"
   ]
  },
  {
   "cell_type": "code",
   "execution_count": 26,
   "id": "e3e40de3",
   "metadata": {},
   "outputs": [
    {
     "name": "stdout",
     "output_type": "stream",
     "text": [
      "Enter Rows = 5\n",
      "*\n",
      "**\n",
      "***\n",
      "****\n",
      "*****\n"
     ]
    }
   ],
   "source": [
    "#Program to print the pyramid(nested loop)\n",
    "rows = int(input(\"Enter Rows = \"))\n",
    "for i in range(5):\n",
    "    for j in range(i+1):\n",
    "        print(\"*\",end=\"\")\n",
    "    print()"
   ]
  },
  {
   "cell_type": "code",
   "execution_count": 27,
   "id": "e3ec0eab",
   "metadata": {},
   "outputs": [
    {
     "name": "stdout",
     "output_type": "stream",
     "text": [
      "Enter Rows = 4\n",
      "   *\n",
      "  ***\n",
      " *****\n",
      "*******\n"
     ]
    }
   ],
   "source": [
    "rows = int(input(\"Enter Rows = \"))\n",
    "for i in range(1, rows + 1):\n",
    "    for j in range(1, rows - i + 1):\n",
    "        print(' ', end = '')\n",
    "    for k in range(1, (2 * i)):\n",
    "        print('*', end = '')\n",
    "    print()"
   ]
  },
  {
   "cell_type": "code",
   "execution_count": 14,
   "id": "a882e59b",
   "metadata": {},
   "outputs": [
    {
     "name": "stdout",
     "output_type": "stream",
     "text": [
      "Enter any Number: 145\n",
      "\n",
      "Factorial of 5 = 120\n",
      "\n",
      "Factorial of 4 = 24\n",
      "\n",
      "Factorial of 1 = 1\n",
      "\n",
      "Sum of Factorials of a Given Number 145 = 145\n",
      "145 is a Strong Number\n"
     ]
    }
   ],
   "source": [
    "#Program to check strong number or not\n",
    "Number = int(input(\"Enter any Number: \"))\n",
    "Sum = 0\n",
    "Temp = Number\n",
    "\n",
    "while(Temp > 0):\n",
    "    Factorial = 1\n",
    "    i = 1\n",
    "    Reminder = Temp % 10\n",
    "\n",
    "    while(i <= Reminder):\n",
    "        Factorial = Factorial * i\n",
    "        i = i + 1\n",
    "\n",
    "    print(\"\\nFactorial of %d = %d\" %(Reminder, Factorial))\n",
    "    Sum = Sum + Factorial\n",
    "    Temp = Temp // 10\n",
    "\n",
    "print(\"\\nSum of Factorials of a Given Number %d = %d\" %(Number, Sum))\n",
    "\n",
    "if (Sum == Number):\n",
    "    print(\"%d is a Strong Number\" %Number)\n",
    "else:\n",
    "    print(\"%d is not a Strong Number\" %Number) "
   ]
  },
  {
   "cell_type": "code",
   "execution_count": 30,
   "id": "d04f5d71",
   "metadata": {},
   "outputs": [
    {
     "name": "stdout",
     "output_type": "stream",
     "text": [
      "Enter a number: 5\n",
      "Not a Perfect Number\n"
     ]
    }
   ],
   "source": [
    "# Program to check perfect number or no\n",
    "num = int(input(\"Enter a number: \"))\n",
    "sumOfFactors = 0\n",
    "for i in range(1,num):\n",
    "    if num%i == 0:\n",
    "        sumOfFactors += i;\n",
    "\n",
    "if sumOfFactors == num:\n",
    "    print(\"Perfect Number\")\n",
    "else:\n",
    "    print(\"Not a Perfect Number\")"
   ]
  },
  {
   "cell_type": "code",
   "execution_count": 31,
   "id": "71b05fd5",
   "metadata": {},
   "outputs": [
    {
     "name": "stdout",
     "output_type": "stream",
     "text": [
      "Enter any number : 121\n",
      "\n",
      "121 is a palindrome.\n"
     ]
    }
   ],
   "source": [
    "# Program to check whether a given numbr is palindrom or not\n",
    "num = input(\"Enter any number : \")\n",
    "reverse = str(num)[::-1]\n",
    "print()\n",
    "if reverse == num:\n",
    "    print(num, \"is a palindrome.\")\n",
    "else:\n",
    "    print(num, \"is not a palindrome.\")"
   ]
  },
  {
   "cell_type": "code",
   "execution_count": 32,
   "id": "68db3056",
   "metadata": {},
   "outputs": [
    {
     "name": "stdout",
     "output_type": "stream",
     "text": [
      "enter a number15\n",
      "Factors of 15 = [1, 3, 5, 15]\n"
     ]
    }
   ],
   "source": [
    "# Find factor of a number\n",
    "num=int(input(\"enter a number\"))\n",
    "factors=[]\n",
    "for i in range(1,num+1):\n",
    "    if num%i==0:\n",
    "       factors.append(i)\n",
    "\n",
    "print (\"Factors of {} = {}\".format(num,factors))\n"
   ]
  }
 ],
 "metadata": {
  "kernelspec": {
   "display_name": "Python 3",
   "language": "python",
   "name": "python3"
  },
  "language_info": {
   "codemirror_mode": {
    "name": "ipython",
    "version": 3
   },
   "file_extension": ".py",
   "mimetype": "text/x-python",
   "name": "python",
   "nbconvert_exporter": "python",
   "pygments_lexer": "ipython3",
   "version": "3.8.8"
  }
 },
 "nbformat": 4,
 "nbformat_minor": 5
}
