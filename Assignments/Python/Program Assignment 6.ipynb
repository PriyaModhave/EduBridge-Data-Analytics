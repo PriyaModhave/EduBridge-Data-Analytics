{
 "cells": [
  {
   "cell_type": "code",
   "execution_count": 8,
   "id": "2ccc47bd",
   "metadata": {},
   "outputs": [
    {
     "name": "stdout",
     "output_type": "stream",
     "text": [
      "I\n"
     ]
    }
   ],
   "source": [
    "# First character in string\n",
    "string = \"I am a Girl\"\n",
    "first_char = string[:1]\n",
    "print (first_char)"
   ]
  },
  {
   "cell_type": "code",
   "execution_count": 14,
   "id": "c9652869",
   "metadata": {},
   "outputs": [
    {
     "name": "stdout",
     "output_type": "stream",
     "text": [
      "l\n"
     ]
    }
   ],
   "source": [
    "# Last character in string using len function\n",
    "n=len(string)\n",
    "print(string[n-1])"
   ]
  },
  {
   "cell_type": "code",
   "execution_count": 15,
   "id": "35992cff",
   "metadata": {},
   "outputs": [
    {
     "name": "stdout",
     "output_type": "stream",
     "text": [
      "l\n"
     ]
    }
   ],
   "source": [
    "# Last character in string\n",
    "last_char = string[-1]\n",
    "print (last_char)"
   ]
  },
  {
   "cell_type": "code",
   "execution_count": 27,
   "id": "a3b7d9a0",
   "metadata": {},
   "outputs": [
    {
     "name": "stdout",
     "output_type": "stream",
     "text": [
      "I am a Girl\n"
     ]
    }
   ],
   "source": [
    "# Fetch all character in string\n",
    "print(string)"
   ]
  },
  {
   "cell_type": "code",
   "execution_count": 32,
   "id": "ae250b7c",
   "metadata": {},
   "outputs": [
    {
     "name": "stdout",
     "output_type": "stream",
     "text": [
      "G\n"
     ]
    }
   ],
   "source": [
    "# Fetch the 7th element of the string\n",
    "print(string[7])"
   ]
  },
  {
   "cell_type": "code",
   "execution_count": 30,
   "id": "939cb10a",
   "metadata": {},
   "outputs": [
    {
     "name": "stdout",
     "output_type": "stream",
     "text": [
      "I am a Girl\n"
     ]
    }
   ],
   "source": [
    "# Fetch all character from o to \n",
    "print(string[0:])"
   ]
  },
  {
   "cell_type": "code",
   "execution_count": 49,
   "id": "95429c00",
   "metadata": {},
   "outputs": [
    {
     "data": {
      "text/plain": [
       "[11, 12, 13, 14, 15, 17, 18, 19]"
      ]
     },
     "execution_count": 49,
     "metadata": {},
     "output_type": "execute_result"
    }
   ],
   "source": [
    "# Index location excluding the character at loc.5\n",
    "list= [11, 12, 13, 14, 15, 16, 17, 18, 19]\n",
    "list.pop(5)\n",
    "list"
   ]
  },
  {
   "cell_type": "code",
   "execution_count": 44,
   "id": "d32de07b",
   "metadata": {},
   "outputs": [
    {
     "name": "stdout",
     "output_type": "stream",
     "text": [
      "9 1 12 34 22 33 "
     ]
    }
   ],
   "source": [
    "# Retrieve all character between 6-12 index excluding loc 12\n",
    "list=[4,3,5,6,78,2,9,1,12,34,22,33,13]\n",
    "for i in range(6,12):\n",
    "    print(list[i],end=' ')"
   ]
  },
  {
   "cell_type": "code",
   "execution_count": 45,
   "id": "558507e5",
   "metadata": {},
   "outputs": [
    {
     "name": "stdout",
     "output_type": "stream",
     "text": [
      "orld\n"
     ]
    }
   ],
   "source": [
    "# Retrieve last four character of the string\n",
    "string=\"Helloworld\"\n",
    "print(string[-4:])"
   ]
  },
  {
   "cell_type": "code",
   "execution_count": 46,
   "id": "3a7f62cb",
   "metadata": {},
   "outputs": [
    {
     "name": "stdout",
     "output_type": "stream",
     "text": [
      "oworld\n"
     ]
    }
   ],
   "source": [
    "# Retrieve last six character of the string\n",
    "print(string[-6:])"
   ]
  },
  {
   "cell_type": "code",
   "execution_count": 48,
   "id": "899654b3",
   "metadata": {},
   "outputs": [
    {
     "name": "stdout",
     "output_type": "stream",
     "text": [
      "Hell\n"
     ]
    }
   ],
   "source": [
    "#Retrive first four character of the string\n",
    "print(string[0:4])"
   ]
  }
 ],
 "metadata": {
  "kernelspec": {
   "display_name": "Python 3",
   "language": "python",
   "name": "python3"
  },
  "language_info": {
   "codemirror_mode": {
    "name": "ipython",
    "version": 3
   },
   "file_extension": ".py",
   "mimetype": "text/x-python",
   "name": "python",
   "nbconvert_exporter": "python",
   "pygments_lexer": "ipython3",
   "version": "3.8.8"
  }
 },
 "nbformat": 4,
 "nbformat_minor": 5
}
