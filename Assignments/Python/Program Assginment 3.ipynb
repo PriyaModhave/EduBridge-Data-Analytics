{
 "cells": [
  {
   "cell_type": "code",
   "execution_count": 8,
   "id": "045c67d2",
   "metadata": {},
   "outputs": [
    {
     "name": "stdout",
     "output_type": "stream",
     "text": [
      "Enter the year: 2000\n",
      "leap year\n"
     ]
    }
   ],
   "source": [
    "#Program to check whether a given is leap year or not \n",
    "i=int(input(\"Enter the year: \"))\n",
    "\n",
    "if i%4==0 and i%100==0 and i%400==0:\n",
    "    print(\"leap year\")\n",
    "else:\n",
    "    print(\"not leap year\")"
   ]
  },
  {
   "cell_type": "code",
   "execution_count": 24,
   "id": "0da6aacf",
   "metadata": {},
   "outputs": [
    {
     "name": "stdout",
     "output_type": "stream",
     "text": [
      "Enter a number 1-7 : 5\n",
      "5  is Thursday\n"
     ]
    }
   ],
   "source": [
    "#Program to print the respective day according to number 1to 7\n",
    "day= int(input(\"Enter a number 1-7 : \"))\n",
    "\n",
    "if (day==1):\n",
    "    print(day,\" is Sunday\")\n",
    "elif (day==2):\n",
    "    print(day,\" is Monday\")\n",
    "elif (day==3):\n",
    "    print(day,\" is Tuesday\")\n",
    "elif (day==4):\n",
    "    print(day,\" is Wednesday\")\n",
    "elif (day==5):\n",
    "    print(day,\" is Thursday\")\n",
    "elif (day==6):\n",
    "    print(day,\" is Friday\")\n",
    "elif (day==7):\n",
    "    print(day,\" is Saturday\")\n",
    "else:\n",
    "    print(\"Wrong Input\")\n"
   ]
  },
  {
   "cell_type": "code",
   "execution_count": 1,
   "id": "361909c9",
   "metadata": {},
   "outputs": [
    {
     "name": "stdout",
     "output_type": "stream",
     "text": [
      "Enter the mark: 60\n",
      "Gread-D\n"
     ]
    }
   ],
   "source": [
    "#Program to print the grade of student according to given criteria  \n",
    "# >90 = A    >75 = b    >65 =C    >50 = D    else fail \n",
    "m=int(input(\"Enter the mark: \"))\n",
    "if m>=90:\n",
    "    print(\"Gread-A\")\n",
    "elif m>=75:\n",
    "    print(\"Gread-B\")\n",
    "elif m>=65:\n",
    "    print(\"Gread-C\")\n",
    "elif m>=50:\n",
    "    print(\"Gread-D\")\n",
    "else:\n",
    "    print(\"fail\")\n",
    "    "
   ]
  },
  {
   "cell_type": "code",
   "execution_count": 15,
   "id": "64d8add5",
   "metadata": {},
   "outputs": [
    {
     "name": "stdout",
     "output_type": "stream",
     "text": [
      "[45, 60, 90]\n"
     ]
    }
   ],
   "source": [
    "#Program to print the three numbers in ascending order \n",
    "a=[60,90,45]\n",
    "a.sort()\n",
    "print(a)"
   ]
  },
  {
   "cell_type": "code",
   "execution_count": 4,
   "id": "0366a796",
   "metadata": {},
   "outputs": [
    {
     "name": "stdout",
     "output_type": "stream",
     "text": [
      "Select operations form 1, 2, 3, 4 :2\n",
      "Enter first number: 33\n",
      "Enter second number: 67\n",
      "33 - 67 = -34\n"
     ]
    }
   ],
   "source": [
    "#write a program to create the calculator \n",
    "select = int(input(\"Select operations form 1, 2, 3, 4 :\"))\n",
    "  \n",
    "num1 = int(input(\"Enter first number: \"))\n",
    "num2 = int(input(\"Enter second number: \"))\n",
    "  \n",
    "if select == 1:\n",
    "    print(num1, \"+\", num2, \"=\", num1+num2)\n",
    "  \n",
    "elif select == 2:\n",
    "    print(num1, \"-\", num2, \"=\",num1-num2)\n",
    "  \n",
    "elif select == 3:\n",
    "    print(num1, \"*\", num2, \"=\",num1*num2)\n",
    "  \n",
    "elif select == 4:\n",
    "    print(num1, \"/\", num2, \"=\",num1/num2)\n",
    "else:\n",
    "    print(\"Invalid \")\n",
    "    "
   ]
  },
  {
   "cell_type": "code",
   "execution_count": 16,
   "id": "e250bc39",
   "metadata": {},
   "outputs": [
    {
     "name": "stdout",
     "output_type": "stream",
     "text": [
      "Enter the month no:8\n",
      "Aug\n"
     ]
    }
   ],
   "source": [
    "#write a program to print the respective month acording to number 1 to 12\n",
    "month=int(input(\"Enter the month no:\"))\n",
    "if month==1:\n",
    "    print(\"Jan\")\n",
    "elif month==2:\n",
    "    print(\"Feb\")\n",
    "elif month==3:\n",
    "    print(\"Mar\")\n",
    "elif month==4:\n",
    "    print(\"APR\")\n",
    "elif month==5:\n",
    "    print(\"May\")\n",
    "elif month==6:\n",
    "    print(\"Jun\")\n",
    "elif month==7:\n",
    "    print(\"Jul\")\n",
    "elif month==8:\n",
    "    print(\"Aug\")\n",
    "elif month==9:\n",
    "    print(\"Sept\")\n",
    "elif month==10:\n",
    "    print(\"Oct\")\n",
    "elif month==12:\n",
    "    print(\"Nov\")\n",
    "elif month==12:\n",
    "    print(\"Dec\")\n",
    "else:\n",
    "    print(\"not valid\")"
   ]
  },
  {
   "cell_type": "code",
   "execution_count": 22,
   "id": "7a54cd90",
   "metadata": {},
   "outputs": [
    {
     "name": "stdout",
     "output_type": "stream",
     "text": [
      "Enter the num 1:  55\n",
      "Enter the num 2:  66\n",
      "Enter the num 3:  34\n",
      "66\n"
     ]
    }
   ],
   "source": [
    "#Print greatest number between three number\n",
    "num1=int(input(\"Enter the num 1:  \"))\n",
    "num2=int(input(\"Enter the num 2:  \"))\n",
    "num3=int(input(\"Enter the num 3:  \"))\n",
    "num=[num1,num2,num3]\n",
    "print(max(num))"
   ]
  },
  {
   "cell_type": "code",
   "execution_count": 23,
   "id": "364165b7",
   "metadata": {},
   "outputs": [
    {
     "name": "stdout",
     "output_type": "stream",
     "text": [
      "Enter the num 1:  66\n",
      "Enter the num 2:  5\n",
      "Enter the num 3:  32\n",
      "5\n"
     ]
    }
   ],
   "source": [
    "#Print smallest number between three number\n",
    "num1=int(input(\"Enter the num 1:  \"))\n",
    "num2=int(input(\"Enter the num 2:  \"))\n",
    "num3=int(input(\"Enter the num 3:  \"))\n",
    "num=[num1,num2,num3]\n",
    "print(min(num))\n"
   ]
  }
 ],
 "metadata": {
  "kernelspec": {
   "display_name": "Python 3",
   "language": "python",
   "name": "python3"
  },
  "language_info": {
   "codemirror_mode": {
    "name": "ipython",
    "version": 3
   },
   "file_extension": ".py",
   "mimetype": "text/x-python",
   "name": "python",
   "nbconvert_exporter": "python",
   "pygments_lexer": "ipython3",
   "version": "3.8.8"
  }
 },
 "nbformat": 4,
 "nbformat_minor": 5
}
