{
 "cells": [
  {
   "cell_type": "markdown",
   "id": "6c59c06d",
   "metadata": {},
   "source": [
    "## Program Assignment 8"
   ]
  },
  {
   "cell_type": "markdown",
   "id": "964ad546",
   "metadata": {},
   "source": [
    "#### Write a simple Python class named Student and Display its type.Also,display the__dict__ attribute keys and the value of the__module__attributes of the student class."
   ]
  },
  {
   "cell_type": "code",
   "execution_count": 1,
   "id": "e06123e7",
   "metadata": {},
   "outputs": [
    {
     "name": "stdout",
     "output_type": "stream",
     "text": [
      "<class 'type'>\n",
      "dict_keys(['__module__', '__dict__', '__weakref__', '__doc__'])\n",
      "__main__\n"
     ]
    }
   ],
   "source": [
    "class Student:\n",
    "    pass  \n",
    "print(type(Student))\n",
    "print(Student.__dict__.keys())\n",
    "print(Student.__module__)"
   ]
  },
  {
   "cell_type": "markdown",
   "id": "b8c4f765",
   "metadata": {},
   "source": [
    "#### Write a Python class to convert an integer to a roman numeral."
   ]
  },
  {
   "cell_type": "code",
   "execution_count": null,
   "id": "879979a4",
   "metadata": {},
   "outputs": [],
   "source": [
    "class solution:\n",
    "    def int_to_Roman(self, num):\n",
    "        val = [\n",
    "            1000, 900, 500, 400,\n",
    "            100, 90, 50, 40,\n",
    "            10, 9, 5, 4,\n",
    "            1\n",
    "            ]\n",
    "        syb = [\n",
    "            \"M\", \"CM\", \"D\", \"CD\",\n",
    "            \"C\", \"XC\", \"L\", \"XL\",\n",
    "            \"X\", \"IX\", \"V\", \"IV\",\n",
    "            \"I\"\n",
    "            ]\n",
    "        roman_num = ''\n",
    "        i = 0\n",
    "        while  num > 0:\n",
    "            for _ in range(num // val[i]):\n",
    "                roman_num += syb[i]\n",
    "                num -= val[i]\n",
    "            i += 1\n",
    "        return roman_num\n",
    "print(py_solution().int_to_Roman(1))\n",
    "print(py_solution().int_to_Roman(4000))"
   ]
  },
  {
   "cell_type": "markdown",
   "id": "e5beb79a",
   "metadata": {},
   "source": [
    "#### Write a Python class to convert a roman numeral to an integer"
   ]
  },
  {
   "cell_type": "code",
   "execution_count": 10,
   "id": "b33992b1",
   "metadata": {},
   "outputs": [
    {
     "name": "stdout",
     "output_type": "stream",
     "text": [
      "1996\n",
      "36\n",
      "4999\n",
      "6777\n"
     ]
    }
   ],
   "source": [
    "class A:\n",
    "    def convert(self,roman):\n",
    "        num_list=[1,4,5,9,10,40,50,90,100,400,500,900,1000]\n",
    "        rom_list=['I','IV','V','IX','X','XL','L','XC','C','CD','D','CM','M']\n",
    "        next_val= 0        \n",
    "        for i in range(len(roman)):\n",
    "            if i!=len(roman)-1:\n",
    "                if rom_list.index(roman[i])>=rom_list.index(roman[i+1]):\n",
    "                    next_val+=num_list[rom_list.index(roman[i])]\n",
    "                else:\n",
    "                    next_val-=num_list[rom_list.index(roman[i])]\n",
    "            else:next_val+=num_list[rom_list.index(roman[i])]\n",
    "                \n",
    "            \n",
    "        print(next_val)        \n",
    "listo=['MCMXCVI','XXXVI','MMMMCMXCIX','MMMMMMDCCLXXVII']\n",
    "for i in listo:\n",
    "    \n",
    "    A().convert(i)"
   ]
  },
  {
   "cell_type": "markdown",
   "id": "0f360d52",
   "metadata": {},
   "source": [
    "#### Write a Python class to improvement pow(x,n)"
   ]
  },
  {
   "cell_type": "code",
   "execution_count": 7,
   "id": "9f55ff8e",
   "metadata": {},
   "outputs": [
    {
     "name": "stdout",
     "output_type": "stream",
     "text": [
      "8\n"
     ]
    }
   ],
   "source": [
    "class abc:\n",
    "\n",
    "    def f(x,y):\n",
    "\n",
    "        return pow(x,y)\n",
    "\n",
    "print(abc.f(2,3))"
   ]
  },
  {
   "cell_type": "markdown",
   "id": "f49bc9bd",
   "metadata": {},
   "source": [
    "#### Write a Python class to reverse a string word by word"
   ]
  },
  {
   "cell_type": "code",
   "execution_count": 12,
   "id": "1e7d006e",
   "metadata": {},
   "outputs": [
    {
     "name": "stdout",
     "output_type": "stream",
     "text": [
      "Enter a string :  my name is rohan\n",
      "rohan is name my\n"
     ]
    }
   ],
   "source": [
    "def reverse_words(s):\n",
    "    return ' '.join(reversed(s.split()))\n",
    "\n",
    "str1=input('Enter a string : ')\n",
    "print(reverse_words(str1))"
   ]
  },
  {
   "cell_type": "code",
   "execution_count": null,
   "id": "aae84bcd",
   "metadata": {},
   "outputs": [],
   "source": []
  }
 ],
 "metadata": {
  "kernelspec": {
   "display_name": "Python 3",
   "language": "python",
   "name": "python3"
  },
  "language_info": {
   "codemirror_mode": {
    "name": "ipython",
    "version": 3
   },
   "file_extension": ".py",
   "mimetype": "text/x-python",
   "name": "python",
   "nbconvert_exporter": "python",
   "pygments_lexer": "ipython3",
   "version": "3.8.8"
  }
 },
 "nbformat": 4,
 "nbformat_minor": 5
}
