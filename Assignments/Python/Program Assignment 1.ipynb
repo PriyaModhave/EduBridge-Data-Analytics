{
 "cells": [
  {
   "cell_type": "code",
   "execution_count": 1,
   "id": "07d0741a",
   "metadata": {},
   "outputs": [
    {
     "name": "stdout",
     "output_type": "stream",
     "text": [
      "Enter first numbers: 20\n",
      "Enter second numbers: 12\n",
      "32\n"
     ]
    }
   ],
   "source": [
    "#Addition of two numbers\n",
    "a=int(input(\"Enter first numbers: \"))\n",
    "b=int(input(\"Enter second numbers: \"))\n",
    "print(a+b)"
   ]
  },
  {
   "cell_type": "code",
   "execution_count": 2,
   "id": "d3706871",
   "metadata": {},
   "outputs": [
    {
     "name": "stdout",
     "output_type": "stream",
     "text": [
      "Enter first numbers: 40\n",
      "Enter second numbers: 30\n",
      "10\n"
     ]
    }
   ],
   "source": [
    "#Subtraction of two numbers\n",
    "a=int(input(\"Enter first numbers: \"))\n",
    "b=int(input(\"Enter second numbers: \"))\n",
    "print(a-b)"
   ]
  },
  {
   "cell_type": "code",
   "execution_count": 3,
   "id": "c8238d36",
   "metadata": {},
   "outputs": [
    {
     "name": "stdout",
     "output_type": "stream",
     "text": [
      "Enter first numbers: 12\n",
      "Enter second numbers: 5\n",
      "60\n"
     ]
    }
   ],
   "source": [
    "#Multiplication of two number\n",
    "a=int(input(\"Enter first numbers: \"))\n",
    "b=int(input(\"Enter second numbers: \"))\n",
    "print(a*b)"
   ]
  },
  {
   "cell_type": "code",
   "execution_count": 4,
   "id": "825a44a1",
   "metadata": {},
   "outputs": [
    {
     "name": "stdout",
     "output_type": "stream",
     "text": [
      "Enter first numbers: 30\n",
      "Enter second numbers: 5\n",
      "6.0\n"
     ]
    }
   ],
   "source": [
    "#Division\n",
    "a=int(input(\"Enter first numbers: \"))\n",
    "b=int(input(\"Enter second numbers: \"))\n",
    "print(a/b)"
   ]
  },
  {
   "cell_type": "code",
   "execution_count": 5,
   "id": "a5f1317f",
   "metadata": {},
   "outputs": [
    {
     "name": "stdout",
     "output_type": "stream",
     "text": [
      "Enter first numbers: 70\n",
      "Enter second numbers: 5\n",
      "0\n"
     ]
    }
   ],
   "source": [
    "#Modulus\n",
    "num1=int(input(\"Enter first numbers: \"))\n",
    "num2=int(input(\"Enter second numbers: \"))\n",
    "print(num1%num2)"
   ]
  },
  {
   "cell_type": "code",
   "execution_count": 15,
   "id": "b22997dc",
   "metadata": {},
   "outputs": [
    {
     "name": "stdout",
     "output_type": "stream",
     "text": [
      "Enter Principle amount: 20000\n",
      "Enter Rate of Intrest: 10\n",
      "Enter Time Period: 4\n",
      "8000.0\n"
     ]
    }
   ],
   "source": [
    "#Simple Interest\n",
    "P=int(input(\"Enter Principle amount: \"))\n",
    "R=float(input(\"Enter Rate of Intrest: \"))\n",
    "T=float(input(\"Enter Time Period: \"))\n",
    "SI=(P*R*T)/100\n",
    "print(SI)"
   ]
  },
  {
   "cell_type": "code",
   "execution_count": 22,
   "id": "cb7c8019",
   "metadata": {},
   "outputs": [
    {
     "name": "stdout",
     "output_type": "stream",
     "text": [
      "Enter 'a' value : 10\n",
      "Enter 'b' value : 22\n",
      "Before swapping a : 10\n",
      "Before swapping b : 22\n",
      "After swapping a : 22\n",
      "After swapping b : 10\n"
     ]
    }
   ],
   "source": [
    "#Swap two numbers with using third variable\n",
    "a=int(input(\"Enter 'a' value : \"))\n",
    "b=int(input(\"Enter 'b' value : \"))\n",
    "print(\"Before swapping a :\",a)\n",
    "print(\"Before swapping b :\",b)\n",
    "#logic to swap using third variable \n",
    "temp=a \n",
    "a=b\n",
    "b=temp\n",
    "print(\"After swapping a :\",a)\n",
    "print(\"After swapping b :\",b)"
   ]
  },
  {
   "cell_type": "code",
   "execution_count": 88,
   "id": "498a3636",
   "metadata": {},
   "outputs": [
    {
     "name": "stdout",
     "output_type": "stream",
     "text": [
      "Enter first numbers a: 35\n",
      "Enter second numbers b: 75\n",
      "After swapping a : 75 \n",
      "After swapping b : 35\n"
     ]
    }
   ],
   "source": [
    "#Swap two number without using third variable\n",
    "a=int(input(\"Enter first numbers a: \"))\n",
    "b=int(input(\"Enter second numbers b: \"))\n",
    "a=a+b\n",
    "b=a-b\n",
    "a=a-b\n",
    "print(\"After swapping a :\",a,\"\\nAfter swapping b :\",b)"
   ]
  },
  {
   "cell_type": "code",
   "execution_count": 116,
   "id": "cca430a8",
   "metadata": {},
   "outputs": [
    {
     "name": "stdout",
     "output_type": "stream",
     "text": [
      "Enter number of subjects: 4\n",
      "Enter marks of 1 subject: \n",
      "78\n",
      "Enter marks of 2 subject: \n",
      "67\n",
      "Enter marks of 3 subject: \n",
      "56\n",
      "Enter marks of 4 subject: \n",
      "88\n",
      "List of marks :  [78, 67, 56, 88]\n",
      "Average marks of student is:  72.25\n"
     ]
    }
   ],
   "source": [
    "#Average of Student Marks\n",
    "a=[]\n",
    "sub_no =int(input(\"Enter number of subjects: \"))\n",
    "j=0\n",
    "for i in range(sub_no):\n",
    "    j+=1\n",
    "    print(\"Enter marks of\",j, \"subject: \")\n",
    "    marks=int(input())\n",
    "    a.append(marks)\n",
    "print(\"List of marks : \",a) \n",
    "sum=0\n",
    "for i in a:\n",
    "    sum=sum+i\n",
    "avg=sum/sub_no\n",
    "print(\"Average marks of student is: \",avg)"
   ]
  },
  {
   "cell_type": "code",
   "execution_count": null,
   "id": "0b92d89f",
   "metadata": {},
   "outputs": [],
   "source": [
    "# Perimeter of shape\n",
    "print(\"1: Rectangle:\\n2: Square:\\n3: Triangle\")\n",
    "choice=int(input(\"Enter your choice number: \"))\n",
    "\n",
    "if choice==1:\n",
    "    length=float(input(\"Enter the length: \"))\n",
    "    width=float(input(\"Enter the width: \"))\n",
    "    perimeter=2*(length+width)\n",
    "    print(\"perimeter of rectangle is: \",perimeter)\n",
    "if choice==2:\n",
    "    a=float(input(\"Enter the length of side: \"))\n",
    "    perimeter=4*a\n",
    "    print(\"perimeter of square is: \",perimeter)\n",
    "if choice==3:\n",
    "    a=float(input(\"Enter the first side: \"))\n",
    "    b=float(input(\"Enter the second side: \"))\n",
    "    c=float(input(\"Enter the third side: \"))\n",
    "    perimeter=a+b+c\n",
    "    print(\"perimeter of triangle is: \",perimeter)"
   ]
  },
  {
   "cell_type": "code",
   "execution_count": 100,
   "id": "daf59eae",
   "metadata": {},
   "outputs": [
    {
     "name": "stdout",
     "output_type": "stream",
     "text": [
      "1: Square:\n",
      "2: Circle:\n",
      "3: Triangle\n",
      "Enter your choice number: 3\n",
      "Enter the base: 12\n",
      "Enter the height: 34\n",
      "Area of triangle is:  204.0\n"
     ]
    }
   ],
   "source": [
    "#Area of shape\n",
    "print(\"1: Square:\\n2: Circle:\\n3: Triangle\")\n",
    "choice=int(input(\"Enter your choice number: \"))\n",
    "\n",
    "if choice==1:\n",
    "    choice=int(input(\"Enter your choice number: \"))\n",
    "    a=float(input(\"Enter the length of side: \"))\n",
    "    area=a**2\n",
    "    print(\"Area of square is: \",area)\n",
    "if choice==1:\n",
    "    r=float(input(\"Enter the radius of circle: \"))\n",
    "    pi=3.14\n",
    "    area=pi*(r**2)\n",
    "    print(\"Area of circle is: \",area)\n",
    "if choice==3:\n",
    "    b=float(input(\"Enter the base: \"))\n",
    "    h=float(input(\"Enter the height: \"))\n",
    "    area=1/2*(b*h)\n",
    "    print(\"Area of triangle is: \",area)\n",
    "    "
   ]
  },
  {
   "cell_type": "code",
   "execution_count": 91,
   "id": "77fa4b0d",
   "metadata": {},
   "outputs": [
    {
     "name": "stdout",
     "output_type": "stream",
     "text": [
      "Enter number of emp: 4\n",
      "Enter sal: 55000\n",
      "Enter sal: 78000\n",
      "Enter sal: 49000\n",
      "Enter sal: 98000\n",
      "List of employee Salary :  [55000, 78000, 49000, 98000]\n",
      "for 1 emp: \n",
      "Salary:  55000\n",
      "Da is:  2750.0\n",
      "Hr is:  5500.0\n",
      "for 2 emp: \n",
      "Salary:  78000\n",
      "Da is:  3900.0\n",
      "Hr is:  7800.0\n",
      "for 3 emp: \n",
      "Salary:  49000\n",
      "Da is:  2450.0\n",
      "Hr is:  4900.0\n",
      "for 4 emp: \n",
      "Salary:  98000\n",
      "Da is:  4900.0\n",
      "Hr is:  9800.0\n"
     ]
    }
   ],
   "source": [
    "#Salary of an employee,hr-10% da-5%\n",
    "a=[]\n",
    "emp_no =int(input(\"Enter number of emp: \"))\n",
    "for i in range(emp_no):\n",
    "    sal=int(input(\"Enter sal: \"))\n",
    "    a.append(sal)\n",
    "    \n",
    "print(\"List of employee Salary : \",a) \n",
    "j=0\n",
    "for i in a:\n",
    "    j=j+1\n",
    "    Hr=i*0.1\n",
    "    Da=i*0.05\n",
    "    print(\"for\",j,\"emp: \" )\n",
    "    print(\"Salary: \", i)\n",
    "    print(\"Da is: \",Da) \n",
    "    print(\"Hr is: \",Hr)"
   ]
  }
 ],
 "metadata": {
  "kernelspec": {
   "display_name": "Python 3",
   "language": "python",
   "name": "python3"
  },
  "language_info": {
   "codemirror_mode": {
    "name": "ipython",
    "version": 3
   },
   "file_extension": ".py",
   "mimetype": "text/x-python",
   "name": "python",
   "nbconvert_exporter": "python",
   "pygments_lexer": "ipython3",
   "version": "3.8.8"
  }
 },
 "nbformat": 4,
 "nbformat_minor": 5
}
