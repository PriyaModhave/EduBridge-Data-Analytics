{
 "cells": [
  {
   "cell_type": "markdown",
   "id": "dc7053e0",
   "metadata": {},
   "source": [
    "### Write a function to find the Max of three numbers."
   ]
  },
  {
   "cell_type": "code",
   "execution_count": 3,
   "id": "73029110",
   "metadata": {},
   "outputs": [
    {
     "name": "stdout",
     "output_type": "stream",
     "text": [
      "max number among three is:\n",
      "30\n"
     ]
    }
   ],
   "source": [
    "def max_of_two( x, y ):\n",
    "    if x > y:\n",
    "        return x\n",
    "    return y\n",
    "def max_of_three( x, y, z ):\n",
    "    return max_of_two( x, max_of_two( y, z ) )\n",
    "print(\"max number among three is:\")\n",
    "print(max_of_three(10, 30, 20))"
   ]
  },
  {
   "cell_type": "markdown",
   "id": "09aab5d7",
   "metadata": {},
   "source": [
    "### Write a function to sum all the numbers in a list."
   ]
  },
  {
   "cell_type": "code",
   "execution_count": 5,
   "id": "893ad18e",
   "metadata": {},
   "outputs": [
    {
     "name": "stdout",
     "output_type": "stream",
     "text": [
      "127\n"
     ]
    }
   ],
   "source": [
    "list=[22,45,6,54]\n",
    "def sum(numbers):\n",
    "    total = 0\n",
    "    for x in numbers:\n",
    "        total += x\n",
    "    return total\n",
    "print(sum((list)))"
   ]
  },
  {
   "cell_type": "markdown",
   "id": "1cadedd7",
   "metadata": {},
   "source": [
    "### Write a function to multiply all the numbers in a list."
   ]
  },
  {
   "cell_type": "code",
   "execution_count": 12,
   "id": "8d711387",
   "metadata": {},
   "outputs": [
    {
     "name": "stdout",
     "output_type": "stream",
     "text": [
      "120\n"
     ]
    }
   ],
   "source": [
    "list1 = [5, 3, 8]\n",
    "def multiplyList(myList) :\n",
    "    result = 1\n",
    "    for x in myList:\n",
    "         result = result * x\n",
    "    return result\n",
    "print(multiplyList(list1))\n"
   ]
  },
  {
   "cell_type": "markdown",
   "id": "17dd06ae",
   "metadata": {},
   "source": [
    "### Write a function to reverse a string."
   ]
  },
  {
   "cell_type": "code",
   "execution_count": 14,
   "id": "a070a087",
   "metadata": {},
   "outputs": [
    {
     "name": "stdout",
     "output_type": "stream",
     "text": [
      "The original string  is : Edubridge\n",
      "The reversed string is : egdirbudE\n"
     ]
    }
   ],
   "source": [
    "def reverse(s):\n",
    "  str = \"\"\n",
    "  for i in s:\n",
    "    str = i + str\n",
    "  return str\n",
    "  \n",
    "s = \"Edubridge\"\n",
    "  \n",
    "print (\"The original string  is : \",end=\"\")\n",
    "print (s)\n",
    "  \n",
    "print (\"The reversed string is : \",end=\"\")\n",
    "print (reverse(s))"
   ]
  },
  {
   "cell_type": "markdown",
   "id": "9b4201d0",
   "metadata": {},
   "source": [
    "### Write a function to calculate the factorial of a number."
   ]
  },
  {
   "cell_type": "code",
   "execution_count": 15,
   "id": "f3c8f0fd",
   "metadata": {},
   "outputs": [
    {
     "name": "stdout",
     "output_type": "stream",
     "text": [
      "Enter a number: 6\n",
      "The factorial of 6 is 720\n"
     ]
    }
   ],
   "source": [
    "num = int(input(\"Enter a number: \"))\n",
    "def factorial(x):\n",
    "    if x == 1:\n",
    "        return 1\n",
    "    else:\n",
    "        return (x * factorial(x-1))\n",
    "result = factorial(num)\n",
    "print(\"The factorial of\", num, \"is\", result)"
   ]
  },
  {
   "cell_type": "markdown",
   "id": "eebda361",
   "metadata": {},
   "source": [
    "### Write a function that accepts a string and calculate the number of upper case letter and lower case letters."
   ]
  },
  {
   "cell_type": "code",
   "execution_count": 38,
   "id": "cd92c1c9",
   "metadata": {},
   "outputs": [
    {
     "name": "stdout",
     "output_type": "stream",
     "text": [
      "Enter the word: Hello Word\n",
      "Upper case is: 2\n",
      "Lower case is: 7\n",
      "None\n"
     ]
    }
   ],
   "source": [
    "word=input(\"Enter the word: \")\n",
    "def up_low(string):\n",
    "  uppers = 0\n",
    "  lowers = 0\n",
    "  for char in string:\n",
    "    if char.islower():\n",
    "      lowers += 1\n",
    "    elif char.isupper():\n",
    "      uppers +=1\n",
    "    else: \n",
    "      pass\n",
    "  print(\"Upper case is:\",uppers)\n",
    "  print(\"Lower case is:\", lowers)\n",
    "print(up_low(word))"
   ]
  },
  {
   "cell_type": "markdown",
   "id": "66f15c42",
   "metadata": {},
   "source": [
    "### Write a function that takes a list and returns a new list with unique elements of the first list."
   ]
  },
  {
   "cell_type": "code",
   "execution_count": 39,
   "id": "a6439b80",
   "metadata": {},
   "outputs": [
    {
     "name": "stdout",
     "output_type": "stream",
     "text": [
      "[1, 2, 3, 4, 5]\n"
     ]
    }
   ],
   "source": [
    "def list(l):\n",
    "    x = []\n",
    "    for a in l:\n",
    "        if a not in x:\n",
    "            x.append(a)\n",
    "    return x\n",
    "print(list([1,2,3,3,3,3,4,5]))"
   ]
  },
  {
   "cell_type": "code",
   "execution_count": null,
   "id": "ca7958a2",
   "metadata": {},
   "outputs": [],
   "source": []
  }
 ],
 "metadata": {
  "kernelspec": {
   "display_name": "Python 3",
   "language": "python",
   "name": "python3"
  },
  "language_info": {
   "codemirror_mode": {
    "name": "ipython",
    "version": 3
   },
   "file_extension": ".py",
   "mimetype": "text/x-python",
   "name": "python",
   "nbconvert_exporter": "python",
   "pygments_lexer": "ipython3",
   "version": "3.8.8"
  }
 },
 "nbformat": 4,
 "nbformat_minor": 5
}
