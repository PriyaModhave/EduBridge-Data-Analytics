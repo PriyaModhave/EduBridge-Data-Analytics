{
 "cells": [
  {
   "cell_type": "code",
   "execution_count": 2,
   "id": "eaa36482",
   "metadata": {},
   "outputs": [
    {
     "data": {
      "text/plain": [
       "[0, 2, 4, 6, 8, 10, 12, 14, 16, 18, 20]"
      ]
     },
     "execution_count": 2,
     "metadata": {},
     "output_type": "execute_result"
    }
   ],
   "source": [
    "# Calculate square of all number between 0-10 using list comprehension\n",
    "square=[i*2 for i in range(0,11)]\n",
    "square"
   ]
  },
  {
   "cell_type": "code",
   "execution_count": 7,
   "id": "66898644",
   "metadata": {},
   "outputs": [
    {
     "name": "stdout",
     "output_type": "stream",
     "text": [
      "[140, 320, 320, 410, 500]\n"
     ]
    }
   ],
   "source": [
    "# Multiple whole list by 10 \n",
    "list = [14, 32, 32, 41, 50]\n",
    "new_list = [i * 10 for i in list]\n",
    "print(new_list)"
   ]
  },
  {
   "cell_type": "code",
   "execution_count": 10,
   "id": "e6c40ca9",
   "metadata": {},
   "outputs": [
    {
     "name": "stdout",
     "output_type": "stream",
     "text": [
      "Hi my age is 26 years and 252 days 12\n",
      "[26, 252, 12]\n"
     ]
    }
   ],
   "source": [
    "# Extract number from a string using list comprehension\n",
    "a = \"Hi my age is 26 years and 252 days 12\"\n",
    "print(a)\n",
    "\n",
    "numbers = [int(i)for i in a.split() if i.isdigit()]\n",
    "\n",
    "print(numbers)"
   ]
  },
  {
   "cell_type": "code",
   "execution_count": 11,
   "id": "6e333737",
   "metadata": {},
   "outputs": [
    {
     "name": "stdout",
     "output_type": "stream",
     "text": [
      "[2, 4, 10, 20, 5]\n"
     ]
    }
   ],
   "source": [
    "# Write a program to remove the duplicate element inthe list\n",
    "def Remove(duplicate):\n",
    "    final_list = []\n",
    "    for num in duplicate:\n",
    "        if num not in final_list:\n",
    "            final_list.append(num)\n",
    "    return final_list\n",
    "duplicate = [2, 4, 10, 20, 5, 2, 20, 4]\n",
    "print(Remove(duplicate))"
   ]
  },
  {
   "cell_type": "code",
   "execution_count": 13,
   "id": "877648e9",
   "metadata": {},
   "outputs": [
    {
     "name": "stdout",
     "output_type": "stream",
     "text": [
      "Sum of all elements in given list:  173\n"
     ]
    }
   ],
   "source": [
    "# Write a program to find the sum of element in the list\n",
    "total = 0\n",
    "list = [22, 53, 47, 8, 43]\n",
    "for i in range(0, len(list)):\n",
    "    total = total + list[i]\n",
    "print(\"Sum of all elements in given list: \", total)"
   ]
  },
  {
   "cell_type": "code",
   "execution_count": 14,
   "id": "c0126e1b",
   "metadata": {},
   "outputs": [
    {
     "name": "stdout",
     "output_type": "stream",
     "text": [
      "True\n"
     ]
    }
   ],
   "source": [
    "# Write the program to find the list consist of at least one common element\n",
    "def common(a, b):\n",
    "    a_set = set(a)\n",
    "    b_set = set(b)\n",
    "    if (a_set & b_set):\n",
    "        return True \n",
    "    else:\n",
    "        return False \n",
    "a = [6, 3, 2, 4, 5]\n",
    "b = [5, 6, 7, 4, 1]\n",
    "print(common(a, b))\n",
    "  "
   ]
  },
  {
   "cell_type": "code",
   "execution_count": null,
   "id": "ddd7656f",
   "metadata": {},
   "outputs": [],
   "source": []
  }
 ],
 "metadata": {
  "kernelspec": {
   "display_name": "Python 3",
   "language": "python",
   "name": "python3"
  },
  "language_info": {
   "codemirror_mode": {
    "name": "ipython",
    "version": 3
   },
   "file_extension": ".py",
   "mimetype": "text/x-python",
   "name": "python",
   "nbconvert_exporter": "python",
   "pygments_lexer": "ipython3",
   "version": "3.8.8"
  }
 },
 "nbformat": 4,
 "nbformat_minor": 5
}
