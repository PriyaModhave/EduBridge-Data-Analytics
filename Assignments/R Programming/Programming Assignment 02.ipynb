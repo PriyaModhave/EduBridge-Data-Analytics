{
 "cells": [
  {
   "cell_type": "markdown",
   "id": "780a18cd",
   "metadata": {},
   "source": [
    "# Assignment 02"
   ]
  },
  {
   "cell_type": "code",
   "execution_count": 5,
   "id": "48e77ffb",
   "metadata": {},
   "outputs": [
    {
     "name": "stderr",
     "output_type": "stream",
     "text": [
      "Warning message:\n",
      "\"package 'tidyverse' was built under R version 3.6.3\""
     ]
    },
    {
     "ename": "ERROR",
     "evalue": "Error: package or namespace load failed for 'tidyverse' in loadNamespace(j <- i[[1L]], c(lib.loc, .libPaths()), versionCheck = vI[[j]]):\n namespace 'jsonlite' 1.6 is already loaded, but >= 1.7.2 is required\n",
     "output_type": "error",
     "traceback": [
      "Error: package or namespace load failed for 'tidyverse' in loadNamespace(j <- i[[1L]], c(lib.loc, .libPaths()), versionCheck = vI[[j]]):\n namespace 'jsonlite' 1.6 is already loaded, but >= 1.7.2 is required\nTraceback:\n",
      "1. library(tidyverse)",
      "2. tryCatch({\n .     attr(package, \"LibPath\") <- which.lib.loc\n .     ns <- loadNamespace(package, lib.loc)\n .     env <- attachNamespace(ns, pos = pos, deps, exclude, include.only)\n . }, error = function(e) {\n .     P <- if (!is.null(cc <- conditionCall(e))) \n .         paste(\" in\", deparse(cc)[1L])\n .     else \"\"\n .     msg <- gettextf(\"package or namespace load failed for %s%s:\\n %s\", \n .         sQuote(package), P, conditionMessage(e))\n .     if (logical.return) \n .         message(paste(\"Error:\", msg), domain = NA)\n .     else stop(msg, call. = FALSE, domain = NA)\n . })",
      "3. tryCatchList(expr, classes, parentenv, handlers)",
      "4. tryCatchOne(expr, names, parentenv, handlers[[1L]])",
      "5. value[[3L]](cond)",
      "6. stop(msg, call. = FALSE, domain = NA)"
     ]
    }
   ],
   "source": [
    "library(dplyr)\n",
    "library(ggplot2)  \n",
    "library (tidyverse)"
   ]
  },
  {
   "cell_type": "markdown",
   "id": "31c2a1cd",
   "metadata": {},
   "source": [
    "### 1.Write a program to take input from user(names and age)and display the values."
   ]
  },
  {
   "cell_type": "code",
   "execution_count": 6,
   "id": "b35ad2ca",
   "metadata": {},
   "outputs": [
    {
     "name": "stdout",
     "output_type": "stream",
     "text": [
      "Enter name: Priya\n",
      "Enter age: 26\n",
      "[1] \"Priya is 26 years old.\"\n"
     ]
    }
   ],
   "source": [
    "name <- readline(\"Enter name: \")\n",
    "age <- readline(\"Enter age: \")\n",
    "my.age <- as.integer(age)\n",
    "print(paste(name, \"is\", age, \"years old.\"))"
   ]
  },
  {
   "cell_type": "markdown",
   "id": "525c9acf",
   "metadata": {},
   "source": [
    "### 2.Write a program to create a sequence of number from 20 to 50 and find the mean of numbers from 20 to 60 and sum of numbers from 51 to 91"
   ]
  },
  {
   "cell_type": "code",
   "execution_count": 7,
   "id": "759e76cf",
   "metadata": {},
   "outputs": [
    {
     "name": "stdout",
     "output_type": "stream",
     "text": [
      "[1] \"Sequence of numbers between 20 to 50:\"\n",
      " [1] 20 21 22 23 24 25 26 27 28 29 30 31 32 33 34 35 36 37 38 39 40 41 42 43 44\n",
      "[26] 45 46 47 48 49 50\n"
     ]
    }
   ],
   "source": [
    "print(paste(\"Sequence of numbers between 20 to 50:\"))\n",
    "print(seq(20,50))"
   ]
  },
  {
   "cell_type": "code",
   "execution_count": 8,
   "id": "b8034aee",
   "metadata": {},
   "outputs": [
    {
     "name": "stdout",
     "output_type": "stream",
     "text": [
      "[1] \"Mean of numbers from 20 to 60:\"\n",
      "[1] 40\n"
     ]
    }
   ],
   "source": [
    "print(\"Mean of numbers from 20 to 60:\")\n",
    "print(mean(20:60))"
   ]
  },
  {
   "cell_type": "code",
   "execution_count": 9,
   "id": "06804942",
   "metadata": {},
   "outputs": [
    {
     "name": "stdout",
     "output_type": "stream",
     "text": [
      "[1] \"Sum of numbers from 51 to 91:\"\n",
      "[1] 2911\n"
     ]
    }
   ],
   "source": [
    "print(\"Sum of numbers from 51 to 91:\")\n",
    "print(sum(51:91))"
   ]
  },
  {
   "cell_type": "markdown",
   "id": "c836b32e",
   "metadata": {},
   "source": [
    "### 3.Write a program to create a vector which contains 10 random integer values between -50 and +50."
   ]
  },
  {
   "cell_type": "code",
   "execution_count": 15,
   "id": "f24d9154",
   "metadata": {},
   "outputs": [
    {
     "name": "stdout",
     "output_type": "stream",
     "text": [
      "[1] \"10 random integer values between -50 and +50: \"\n",
      " [1]  10  34   1  18 -37  -2  31  27  47 -36\n"
     ]
    }
   ],
   "source": [
    "v=sample(-50:50, 10, replace=TRUE)\n",
    "print(\"10 random integer values between -50 and +50: \")\n",
    "print(v)"
   ]
  },
  {
   "cell_type": "markdown",
   "id": "ce418216",
   "metadata": {},
   "source": [
    "### 4.Write a program to get the first 10 Fibonacci numbers."
   ]
  },
  {
   "cell_type": "code",
   "execution_count": 16,
   "id": "ad455274",
   "metadata": {},
   "outputs": [
    {
     "name": "stdout",
     "output_type": "stream",
     "text": [
      "How many terms? 5\n",
      "[1] \"Fibonacci sequence:\"\n",
      "[1] 0\n",
      "[1] 1\n",
      "[1] 1\n",
      "[1] 2\n",
      "[1] 3\n"
     ]
    }
   ],
   "source": [
    "n = as.integer(readline(\"How many terms? \"))\n",
    "n1 = 0\n",
    "n2 = 1\n",
    "count = 2\n",
    "if(n <= 0) {\n",
    "print(\"invalid number\")\n",
    "} else {\n",
    "if(n == 1) {\n",
    "print(\"Fibonacci sequence:\")\n",
    "print(n1)\n",
    "} else {\n",
    "print(\"Fibonacci sequence:\")\n",
    "print(n1)\n",
    "print(n2)\n",
    "while(count < n) {\n",
    "new = n1 + n2\n",
    "print(new)\n",
    "\n",
    "n1 = n2\n",
    "n2 = new\n",
    "count = count + 1\n",
    "}\n",
    "}\n",
    "}"
   ]
  },
  {
   "cell_type": "markdown",
   "id": "c058728e",
   "metadata": {},
   "source": [
    "### 5.Write a program to get prime numbers up to a given number"
   ]
  },
  {
   "cell_type": "code",
   "execution_count": 18,
   "id": "916d4f69",
   "metadata": {},
   "outputs": [
    {
     "name": "stdout",
     "output_type": "stream",
     "text": [
      "Enter the range: 10\n"
     ]
    },
    {
     "data": {
      "text/html": [
       "<ol class=list-inline>\n",
       "\t<li>2</li>\n",
       "\t<li>3</li>\n",
       "\t<li>5</li>\n",
       "\t<li>7</li>\n",
       "</ol>\n"
      ],
      "text/latex": [
       "\\begin{enumerate*}\n",
       "\\item 2\n",
       "\\item 3\n",
       "\\item 5\n",
       "\\item 7\n",
       "\\end{enumerate*}\n"
      ],
      "text/markdown": [
       "1. 2\n",
       "2. 3\n",
       "3. 5\n",
       "4. 7\n",
       "\n",
       "\n"
      ],
      "text/plain": [
       "[1] 2 3 5 7"
      ]
     },
     "metadata": {},
     "output_type": "display_data"
    }
   ],
   "source": [
    "prime <- function(n)\n",
    "{\n",
    "if (n >= 2) \n",
    "{\n",
    " x = seq(2, n)\n",
    " prime_nums = c()\n",
    " for (i in seq(2, n))\n",
    " {\n",
    " if (any(x == i)) \n",
    " {\n",
    " prime_nums = c(prime_nums, i)\n",
    " x = c(x[(x %% i) != 0], i)\n",
    " }\n",
    " }\n",
    " return(prime_nums)\n",
    " }\n",
    " else \n",
    " {\n",
    " stop(\"Input number should be at least 2.\")\n",
    " }\n",
    " } \n",
    "n<-as.integer(readline(\"Enter the range: \"))\n",
    "prime(n)"
   ]
  }
 ],
 "metadata": {
  "kernelspec": {
   "display_name": "R",
   "language": "R",
   "name": "ir"
  },
  "language_info": {
   "codemirror_mode": "r",
   "file_extension": ".r",
   "mimetype": "text/x-r-source",
   "name": "R",
   "pygments_lexer": "r",
   "version": "3.6.1"
  }
 },
 "nbformat": 4,
 "nbformat_minor": 5
}
